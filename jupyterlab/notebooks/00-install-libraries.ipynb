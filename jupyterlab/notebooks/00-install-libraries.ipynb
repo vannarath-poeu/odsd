{
 "cells": [
  {
   "cell_type": "code",
   "execution_count": null,
   "id": "b73b72e0-fb6b-4669-bc5c-aee2d00269f4",
   "metadata": {},
   "outputs": [],
   "source": [
    "# Replace library and uncomment below code block to install library\n",
    "\n",
    "#!pip install [library]"
   ]
  },
  {
   "cell_type": "code",
   "execution_count": 3,
   "id": "90125bc5-1800-4dd3-be06-83d69801c93b",
   "metadata": {},
   "outputs": [],
   "source": [
    "# Run below to write the requirements into txt file\n",
    "\n",
    "!pip freeze > ../docker/requirements.txt"
   ]
  },
  {
   "cell_type": "code",
   "execution_count": null,
   "id": "17809e84-3552-489a-bff3-ea895cff4487",
   "metadata": {},
   "outputs": [],
   "source": []
  }
 ],
 "metadata": {
  "kernelspec": {
   "display_name": "Python 3 (ipykernel)",
   "language": "python",
   "name": "python3"
  },
  "language_info": {
   "codemirror_mode": {
    "name": "ipython",
    "version": 3
   },
   "file_extension": ".py",
   "mimetype": "text/x-python",
   "name": "python",
   "nbconvert_exporter": "python",
   "pygments_lexer": "ipython3",
   "version": "3.7.13"
  }
 },
 "nbformat": 4,
 "nbformat_minor": 5
}
